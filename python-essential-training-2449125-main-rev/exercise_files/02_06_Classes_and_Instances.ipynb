{
 "cells": [
  {
   "cell_type": "markdown",
   "id": "7e7cecd6",
   "metadata": {},
   "source": [
    "## Classes"
   ]
  },
  {
   "cell_type": "code",
   "execution_count": 6,
   "id": "d5cde69b",
   "metadata": {},
   "outputs": [],
   "source": [
    "class Dog:\n",
    "    def __init__(self, name):\n",
    "        self.name = name\n",
    "        self.legs = 4\n",
    "    \n",
    "    def speak(self):\n",
    "        print(self.name + ' says: Bark!')\n",
    "        \n"
   ]
  },
  {
   "cell_type": "code",
   "execution_count": 7,
   "id": "5b3dde35",
   "metadata": {},
   "outputs": [],
   "source": [
    "my_dog = Dog('Rover')\n",
    "another_dog = Dog('Fluffy')"
   ]
  },
  {
   "cell_type": "code",
   "execution_count": 8,
   "id": "ceed1af6",
   "metadata": {},
   "outputs": [
    {
     "name": "stdout",
     "output_type": "stream",
     "text": [
      "Rover says: Bark!\n"
     ]
    }
   ],
   "source": [
    "my_dog.speak()"
   ]
  },
  {
   "cell_type": "code",
   "execution_count": 9,
   "id": "b85ea67b",
   "metadata": {},
   "outputs": [
    {
     "name": "stdout",
     "output_type": "stream",
     "text": [
      "Fluffy says: Bark!\n"
     ]
    }
   ],
   "source": [
    "another_dog.speak()"
   ]
  },
  {
   "cell_type": "code",
   "execution_count": 15,
   "id": "5d1838eb",
   "metadata": {},
   "outputs": [],
   "source": [
    "class Cat():\n",
    "    def __init__(self, name):\n",
    "        self.name = name\n",
    "        self. legs = 4\n",
    "        \n",
    "    def sound(self):\n",
    "        print(self.name + ' says: mew')\n",
    "    \n",
    "    def walk(self):\n",
    "        print(self.name + ' has', self.legs, 'legs')"
   ]
  },
  {
   "cell_type": "code",
   "execution_count": 16,
   "id": "5c3a78a8",
   "metadata": {},
   "outputs": [],
   "source": [
    "my_cat = Cat('Bobby')"
   ]
  },
  {
   "cell_type": "code",
   "execution_count": 17,
   "id": "2a618d02",
   "metadata": {},
   "outputs": [
    {
     "name": "stdout",
     "output_type": "stream",
     "text": [
      "Bobby says: mew\n"
     ]
    }
   ],
   "source": [
    "my_cat.sound()"
   ]
  },
  {
   "cell_type": "code",
   "execution_count": 18,
   "id": "230de9fd",
   "metadata": {},
   "outputs": [
    {
     "name": "stdout",
     "output_type": "stream",
     "text": [
      "Bobby has 4 legs\n"
     ]
    }
   ],
   "source": [
    "my_cat.walk()"
   ]
  },
  {
   "cell_type": "code",
   "execution_count": null,
   "id": "46ebd1b2",
   "metadata": {},
   "outputs": [],
   "source": []
  }
 ],
 "metadata": {
  "kernelspec": {
   "display_name": "Python 3 (ipykernel)",
   "language": "python",
   "name": "python3"
  },
  "language_info": {
   "codemirror_mode": {
    "name": "ipython",
    "version": 3
   },
   "file_extension": ".py",
   "mimetype": "text/x-python",
   "name": "python",
   "nbconvert_exporter": "python",
   "pygments_lexer": "ipython3",
   "version": "3.10.6"
  }
 },
 "nbformat": 4,
 "nbformat_minor": 5
}
